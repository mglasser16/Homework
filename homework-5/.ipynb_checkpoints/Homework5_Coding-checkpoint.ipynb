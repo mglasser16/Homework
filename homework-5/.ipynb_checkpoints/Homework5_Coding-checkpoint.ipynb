{
 "cells": [
  {
   "cell_type": "markdown",
   "metadata": {},
   "source": [
    "# Homework 5 Coding: Transport Modeling\n",
    "\n",
    "For this coding assignment, you will write functions to calculate molar flux (and sometimes current density) for several given applications.  I will do much of the coding for you, at first, but then let you handle more and more of it, as we move along.\n",
    "\n",
    "## Part I: Gas-phase diffusion in a PEMFC cathode.\n",
    "\n",
    "For this scenario, we will model gas-phase transport in the gas diffusion layer (GDL) of a PEMFC cathode.\n",
    "\n",
    "The cathode is 100 microns thick, with a porosity (gas-phase volume fraction) of 57%, with the tortuosity factor modeled using a Bruggeman coefficient of $n = -0.5$.\n",
    "\n",
    "Use the Kozeny-Carman relationship to estimate the cathode GDL permeability, with a carbon particle diameter of 0.5 microns, and an average pore radius of 2 microns.\n",
    "\n",
    "We will simulate transport at 60 C, where the dynamic viscosity of moist air is $\\mu = 2.08\\times 10^{-5}\\,\\frac{\\rm kg}{\\rm m-s}$.  The conditions at the two nodes are:\n",
    "\n",
    "1. Node 1: in the gas flow channel\n",
    "- Pressure = 1 atmosphere\n",
    "- $X_{\\rm O_2} = 0.21$\n",
    "- $X_{\\rm N_2} = 0.79$\n",
    "- $X_{\\rm H_2O} = 0.0$\n",
    "\n",
    "2. Node 2: in the catalyst layer, where O$_2$ is consumed and H$_2$O is produced:\n",
    "- Pressure = 100 kPa\n",
    "- $X_{\\rm O_2} = 0.16$\n",
    "- $X_{\\rm N_2} = 0.80$\n",
    "- $X_{\\rm H_2O} = 0.04$\n",
    "\n",
    "The gas-phase species diffusion coefficients are:\n",
    "- O$_2$: $2.438\\times 10^{-5}\\,\\frac{\\rm m^2}{\\rm s}$\n",
    "- N$_2$: $2.798\\times 10^{-5}\\,\\frac{\\rm m^2}{\\rm s}$\n",
    "- H$_2$O: $1.9\\times 10^{-5}\\,\\frac{\\rm m^2}{\\rm s}$"
   ]
  },
  {
   "cell_type": "code",
   "execution_count": 4,
   "metadata": {},
   "outputs": [],
   "source": [
    "import numpy as np\n",
    "\n",
    "dY = 100e-6 # m\n",
    "eps_g = 0.57\n",
    "n_Brugg = -0.5\n",
    "t_form = eps_g**(n_Brugg)\n",
    "\n",
    "d_part = 0.5e-6\n",
    "r_p = 2e-6\n",
    "\n",
    "T = 333.15 # K\n",
    "P_1 = 101325 # Pa\n",
    "P_2 = 100000 # Pa\n",
    "\n",
    "R = 8.3145 # J/mol-K\n",
    "F = 96485  # C/mol equiv\n",
    "\n",
    "# Species order: O2, N2, H2O_v\n",
    "X_k_1 = np.array([0.21, 0.79, 0.0])\n",
    "X_k_2 = np.array([0.16, 0.80, 0.04])\n",
    "# molar Mass\n",
    "X_m = np.array([31.99880/1000,28.0134/1000,18.01528/1000])\n",
    "\n",
    "mu = 2.08e-5 #kg/m-s\n",
    "\n",
    "D_k = np.array([2.438e-5, 2.798e-5, 1.9e-5]) #m2/s"
   ]
  },
  {
   "cell_type": "markdown",
   "metadata": {},
   "source": [
    "### We are going to load all parameters into a series of Python dictionaries\n",
    "\n",
    "We will pass these dictionaries to our function.  The dictionaries just make it more efficient then having 12 different input variables."
   ]
  },
  {
   "cell_type": "code",
   "execution_count": 5,
   "metadata": {},
   "outputs": [],
   "source": [
    "# State variables for node 1:\n",
    "state1 = {'X_k':X_k_1, 'P':P_1, 'T':T}\n",
    "# State variables for node 2:\n",
    "state2 = {'X_k':X_k_2, 'P':P_2, 'T':T}\n",
    "\n",
    "# Geometric and microstructure parameters:\n",
    "geom = {'eps_g':eps_g, 'n_Brugg':n_Brugg, 'd_part':d_part, 'dY':dY}\n",
    "# Gas properties\n",
    "gas_props = {'D_k':D_k, 'mu':mu}"
   ]
  },
  {
   "cell_type": "markdown",
   "metadata": {},
   "source": [
    "### Example for using values stored in dictionaries:"
   ]
  },
  {
   "cell_type": "code",
   "execution_count": 6,
   "metadata": {},
   "outputs": [
    {
     "name": "stdout",
     "output_type": "stream",
     "text": [
      "2.08e-05\n",
      "[0.21 0.79 0.  ]\n",
      "The mole fractions sum to 1.0\n"
     ]
    }
   ],
   "source": [
    "# To access a dictionary value:\n",
    "print(gas_props['mu'])\n",
    "print(state1['X_k'])\n",
    "X_sum = sum(state1['X_k'])\n",
    "print('The mole fractions sum to',X_sum)"
   ]
  },
  {
   "cell_type": "markdown",
   "metadata": {},
   "source": [
    "## YOUR CODE GOES HERE:\n",
    "\n",
    "Create a function that calculates the species fluxes, given our input dictionaries.\n",
    "\n",
    "The function must return an array `N_k` that provides the species molar fluxes in mol/m$^2$-s. "
   ]
  },
  {
   "cell_type": "code",
   "execution_count": 7,
   "metadata": {},
   "outputs": [
    {
     "name": "stdout",
     "output_type": "stream",
     "text": [
      "[3.09426046e-04 1.32969571e-03 3.34514644e-05]\n",
      "[ 0.02835595 -0.00151458 -0.16352941]\n",
      "[ 0.19288891 -0.00534129 -0.11804866]\n"
     ]
    }
   ],
   "source": [
    "from math import exp, log\n",
    "N_k_test = D_k*mu*R*T*(state2['X_k']-state1['X_k'])\n",
    "\n",
    "def pemfc_gas_transport(state1, state2, geom, gas_props):\n",
    "    C_k_1 = state1['P']/(R*state1['T'])*state1['X_k']\n",
    "    C_k_2 = state2['P']/(R*state1['T'])*state2['X_k']\n",
    "    K_m = geom['eps_g']**3*geom['d_part']**2/(72*t_form*(1-geom['eps_g'])**2)\n",
    "    V_conv = -K_m*(state2['P']-state1['P'])/dY/gas_props['mu']*((state2['X_k']+state1['X_k'])/2)\n",
    "    D_k_eff = geom['eps_g']/t_form*gas_props['D_k']\n",
    "    print(V_conv)\n",
    "    V_diff = -D_k_eff*(state2['X_k']-state1['X_k'])/dY/((state1['X_k']+state2['X_k'])/2)\n",
    "    print(V_diff)\n",
    "    N_k = (C_k_1+C_k_2)/2*(V_conv+V_diff)\n",
    "    return N_k\n",
    "\n",
    "N_k_calc = pemfc_gas_transport(state1, state2, geom, gas_props)\n",
    "print(N_k_calc)"
   ]
  },
  {
   "cell_type": "markdown",
   "metadata": {},
   "source": [
    "### Now calculate the fluxes between nodes 1 and 2 (you do not need to do anything; just run the cell)\n",
    "### Then check your answers against mine:"
   ]
  },
  {
   "cell_type": "code",
   "execution_count": 8,
   "metadata": {},
   "outputs": [
    {
     "name": "stdout",
     "output_type": "stream",
     "text": [
      "[3.09426046e-04 1.32969571e-03 3.34514644e-05]\n",
      "[ 0.02835595 -0.00151458 -0.16352941]\n"
     ]
    },
    {
     "data": {
      "text/plain": [
       "Text(0.5, 0, 'Species')"
      ]
     },
     "execution_count": 8,
     "metadata": {},
     "output_type": "execute_result"
    }
   ],
   "source": [
    "N_k_calc = pemfc_gas_transport(state1, state2, geom, gas_props)\n",
    "\n",
    "from matplotlib import pyplot as plt\n",
    "width = 0.35\n",
    "N_k_check = np.array([0.19913, -0.007275, -0.11794]) #mol/m2/s\n",
    "\n",
    "fig, ax = plt.subplots()\n",
    "\n",
    "labels = ['O2', 'N2', 'H2O']\n",
    "x = np.arange(len(labels))\n",
    "\n",
    "ax.bar(x+width/2,N_k_check,width)\n",
    "ax.bar(x-width/2,N_k_calc,width)\n",
    "ax.legend(['DeCaluwe\\'s Answer','My Answer'],frameon=False)\n",
    "\n",
    "ax.set_xticks(x)\n",
    "ax.set_xticklabels(labels)\n",
    "\n",
    "ax.set_ylabel('Diffusion coefficient (m$^2$/s)',fontsize=14)\n",
    "ax.set_xlabel('Species',fontsize=14)"
   ]
  },
  {
   "cell_type": "markdown",
   "metadata": {},
   "source": [
    "## Part II: Charged species transport in a liquid electrolyte:\n",
    "\n",
    "Next we will calculate molar fluxes for a liquid electrolyte in a battery anode.  These calculations will be for electro-diffusion only - there is no convection!\n",
    "\n",
    "The molar density of the electrolyte is assumed constant at 1100 moles per m$^3$\n",
    "\n",
    "The temperature is 45$^\\circ$C.\n",
    "\n",
    "The electrolyte is LiPF$_6$, dissolved in a generic \"solvent\" molecule, with the following conditions:\n",
    "\n",
    "1. Node 1:\n",
    "- $X_{\\rm Li^+} = 0.03$\n",
    "- $X_{\\rm PF^-_6} = 0.03$\n",
    "- $X_{\\rm Solvent} = 0.94$\n",
    "- Electric potential $\\phi_1 = 0.9$ V\n",
    "\n",
    "2. Node 2:\n",
    "- $X_{\\rm Li^+} = 0.06$\n",
    "- $X_{\\rm PF^-_6} = 0.06$\n",
    "- $X_{\\rm Solvent} = 0.88$\n",
    "- Electric potential $\\phi_2 = 0.5$ V\n",
    "\n",
    "The distance between the nodes is 30 microns, and the average diameter of the solid active material particles is 5 microns.  The anode porosity (electrolyte volume fraction) is 23%, and the tortuosity is characterized by a Bruggeman coefficient of -0.5."
   ]
  },
  {
   "cell_type": "code",
   "execution_count": 9,
   "metadata": {},
   "outputs": [],
   "source": [
    "C_elyte = 1100 #mol/m3\n",
    "\n",
    "F = 96485    # Faraday's constant, C/kmol equivalent charge\\n\n",
    "\n",
    "# Species order: Li+, PF6-, solvent\n",
    "X_k_1 = np.array([0.03, 0.03, 0.94])\n",
    "X_k_2 = np.array([0.06, 0.06, 0.88])\n",
    "\n",
    "z_k = np.array([1., -1., 0.])\n",
    "\n",
    "T = 318.  #K\n",
    "\n",
    "dY = 30e-6\n",
    "\n",
    "D_k = np.array([1.52e-10, 0.25e-10, 1e-12])\n",
    "\n",
    "phi_1 = 0.9\n",
    "phi_2 = 0.5\n",
    "\n",
    "d_part = 5e-6\n",
    "\n",
    "eps_elyte = 0.23\n",
    "n_brugg = -0.5\n",
    "\n",
    "t_form = eps_elyte**(n_brugg)"
   ]
  },
  {
   "cell_type": "markdown",
   "metadata": {},
   "source": [
    "## ENTER CODE HERE \n",
    "\n",
    "### to Create the Necessary Dictionaries. We will call the states just 's1' and 's2', this time:"
   ]
  },
  {
   "cell_type": "code",
   "execution_count": 17,
   "metadata": {},
   "outputs": [],
   "source": [
    "s1 = {'X_k':X_k_1, \"phi\":phi_1}\n",
    "s2 = {'X_k':X_k_2, \"phi\":phi_2}\n",
    "\n",
    "geom = {'eps_e':eps_elyte, 'n_b':n_brugg, 'd_p':d_part, 'dY':dY }\n",
    "e_pars = {'z_k':z_k, 'D_k':D_k, \"C_e\":C_elyte}"
   ]
  },
  {
   "cell_type": "markdown",
   "metadata": {},
   "source": [
    "## NOW CREATE YOUR FLUX-CALCULATING FUNCTION:"
   ]
  },
  {
   "cell_type": "code",
   "execution_count": 19,
   "metadata": {},
   "outputs": [
    {
     "name": "stdout",
     "output_type": "stream",
     "text": [
      "[1.67662270e-11 2.75760313e-12 1.10304125e-13]\n",
      "[ 3.02856629e-08 -4.98119456e-09  0.00000000e+00]\n",
      "[ 3.85365989e-04 -6.94492909e-05  2.42669075e-07]\n"
     ]
    }
   ],
   "source": [
    "def electrolyte_transport(s1, s2, geom, e_pars):\n",
    "    D_k_eff = geom['eps_e']/t_form*e_pars['D_k']\n",
    "    C_avg = (s1['X_k']*e_pars['C_e']+s2['X_k']*e_pars['C_e'])/2\n",
    "    D_mig = D_k_eff*C_avg*e_pars['z_k']*F/(R*T)\n",
    "    g_X =(s2['X_k']-s1['X_k'])/dY\n",
    "    g_avg =((s1['X_k']+s2['X_k'])/2)\n",
    "    N_k = - D_k_eff*C_avg*g_X/g_avg - D_mig*(s2['phi']-s1['phi'])/dY\n",
    "    print(D_k_eff)\n",
    "    print(D_mig)\n",
    "    print(N_k)\n",
    "    return N_k\n",
    "\n",
    "N_k_calculated = electrolyte_transport(s1,s2, geom, e_pars)"
   ]
  },
  {
   "cell_type": "markdown",
   "metadata": {},
   "source": [
    "Now we loop over a range of Node 2 electric potentials.  We use the fluxes to calculate the current density:\n",
    "\\begin{equation}\n",
    "i = F\\sum_k z_kN_k\n",
    "\\end{equation}"
   ]
  },
  {
   "cell_type": "code",
   "execution_count": 20,
   "metadata": {},
   "outputs": [
    {
     "name": "stdout",
     "output_type": "stream",
     "text": [
      "[1.67662270e-11 2.75760313e-12 1.10304125e-13]\n",
      "[ 3.02856629e-08 -4.98119456e-09  0.00000000e+00]\n",
      "[ 8.90127038e-04 -1.52469200e-04  2.42669075e-07]\n",
      "[1.67662270e-11 2.75760313e-12 1.10304125e-13]\n",
      "[ 3.02856629e-08 -4.98119456e-09  0.00000000e+00]\n",
      "[ 8.43857275e-04 -1.44859042e-04  2.42669075e-07]\n",
      "[1.67662270e-11 2.75760313e-12 1.10304125e-13]\n",
      "[ 3.02856629e-08 -4.98119456e-09  0.00000000e+00]\n",
      "[ 7.97587513e-04 -1.37248884e-04  2.42669075e-07]\n",
      "[1.67662270e-11 2.75760313e-12 1.10304125e-13]\n",
      "[ 3.02856629e-08 -4.98119456e-09  0.00000000e+00]\n",
      "[ 7.51317750e-04 -1.29638725e-04  2.42669075e-07]\n",
      "[1.67662270e-11 2.75760313e-12 1.10304125e-13]\n",
      "[ 3.02856629e-08 -4.98119456e-09  0.00000000e+00]\n",
      "[ 7.05047987e-04 -1.22028567e-04  2.42669075e-07]\n",
      "[1.67662270e-11 2.75760313e-12 1.10304125e-13]\n",
      "[ 3.02856629e-08 -4.98119456e-09  0.00000000e+00]\n",
      "[ 6.58778224e-04 -1.14418408e-04  2.42669075e-07]\n",
      "[1.67662270e-11 2.75760313e-12 1.10304125e-13]\n",
      "[ 3.02856629e-08 -4.98119456e-09  0.00000000e+00]\n",
      "[ 6.12508461e-04 -1.06808250e-04  2.42669075e-07]\n",
      "[1.67662270e-11 2.75760313e-12 1.10304125e-13]\n",
      "[ 3.02856629e-08 -4.98119456e-09  0.00000000e+00]\n",
      "[ 5.66238698e-04 -9.91980918e-05  2.42669075e-07]\n",
      "[1.67662270e-11 2.75760313e-12 1.10304125e-13]\n",
      "[ 3.02856629e-08 -4.98119456e-09  0.00000000e+00]\n",
      "[ 5.19968936e-04 -9.15879334e-05  2.42669075e-07]\n",
      "[1.67662270e-11 2.75760313e-12 1.10304125e-13]\n",
      "[ 3.02856629e-08 -4.98119456e-09  0.00000000e+00]\n",
      "[ 4.73699173e-04 -8.39777750e-05  2.42669075e-07]\n",
      "[1.67662270e-11 2.75760313e-12 1.10304125e-13]\n",
      "[ 3.02856629e-08 -4.98119456e-09  0.00000000e+00]\n",
      "[ 4.27429410e-04 -7.63676167e-05  2.42669075e-07]\n",
      "[1.67662270e-11 2.75760313e-12 1.10304125e-13]\n",
      "[ 3.02856629e-08 -4.98119456e-09  0.00000000e+00]\n",
      "[ 3.81159647e-04 -6.87574583e-05  2.42669075e-07]\n",
      "[1.67662270e-11 2.75760313e-12 1.10304125e-13]\n",
      "[ 3.02856629e-08 -4.98119456e-09  0.00000000e+00]\n",
      "[ 3.34889884e-04 -6.11473000e-05  2.42669075e-07]\n",
      "[1.67662270e-11 2.75760313e-12 1.10304125e-13]\n",
      "[ 3.02856629e-08 -4.98119456e-09  0.00000000e+00]\n",
      "[ 2.88620122e-04 -5.35371416e-05  2.42669075e-07]\n",
      "[1.67662270e-11 2.75760313e-12 1.10304125e-13]\n",
      "[ 3.02856629e-08 -4.98119456e-09  0.00000000e+00]\n",
      "[ 2.42350359e-04 -4.59269833e-05  2.42669075e-07]\n",
      "[1.67662270e-11 2.75760313e-12 1.10304125e-13]\n",
      "[ 3.02856629e-08 -4.98119456e-09  0.00000000e+00]\n",
      "[ 1.96080596e-04 -3.83168249e-05  2.42669075e-07]\n",
      "[1.67662270e-11 2.75760313e-12 1.10304125e-13]\n",
      "[ 3.02856629e-08 -4.98119456e-09  0.00000000e+00]\n",
      "[ 1.49810833e-04 -3.07066666e-05  2.42669075e-07]\n",
      "[1.67662270e-11 2.75760313e-12 1.10304125e-13]\n",
      "[ 3.02856629e-08 -4.98119456e-09  0.00000000e+00]\n",
      "[ 1.03541070e-04 -2.30965082e-05  2.42669075e-07]\n",
      "[1.67662270e-11 2.75760313e-12 1.10304125e-13]\n",
      "[ 3.02856629e-08 -4.98119456e-09  0.00000000e+00]\n",
      "[ 5.72713076e-05 -1.54863498e-05  2.42669075e-07]\n",
      "[1.67662270e-11 2.75760313e-12 1.10304125e-13]\n",
      "[ 3.02856629e-08 -4.98119456e-09  0.00000000e+00]\n",
      "[ 1.10015448e-05 -7.87619148e-06  2.42669075e-07]\n",
      "[1.67662270e-11 2.75760313e-12 1.10304125e-13]\n",
      "[ 3.02856629e-08 -4.98119456e-09  0.00000000e+00]\n",
      "[-3.52682180e-05 -2.66033127e-07  2.42669075e-07]\n",
      "[1.67662270e-11 2.75760313e-12 1.10304125e-13]\n",
      "[ 3.02856629e-08 -4.98119456e-09  0.00000000e+00]\n",
      "[-8.15379808e-05  7.34412523e-06  2.42669075e-07]\n",
      "[1.67662270e-11 2.75760313e-12 1.10304125e-13]\n",
      "[ 3.02856629e-08 -4.98119456e-09  0.00000000e+00]\n",
      "[-1.27807744e-04  1.49542836e-05  2.42669075e-07]\n",
      "[1.67662270e-11 2.75760313e-12 1.10304125e-13]\n",
      "[ 3.02856629e-08 -4.98119456e-09  0.00000000e+00]\n",
      "[-1.74077506e-04  2.25644419e-05  2.42669075e-07]\n",
      "[1.67662270e-11 2.75760313e-12 1.10304125e-13]\n",
      "[ 3.02856629e-08 -4.98119456e-09  0.00000000e+00]\n",
      "[-2.20347269e-04  3.01746003e-05  2.42669075e-07]\n"
     ]
    }
   ],
   "source": [
    "dPhi = np.linspace(0,1.1,25)\n",
    "currents = np.zeros_like(dPhi)\n",
    "N_k = np.zeros((len(dPhi), len(z_k)))\n",
    "\n",
    "\n",
    "for j, phi in enumerate(dPhi):\n",
    "    s2['phi'] = phi\n",
    "    N_k[j,:] = electrolyte_transport(s1,s2, geom, e_pars)\n",
    "    currents[j] = np.dot(z_k,N_k[j,:])*F\n"
   ]
  },
  {
   "cell_type": "markdown",
   "metadata": {},
   "source": [
    "## Plot the currents and check them against mine.\n",
    "(You do not need to enter anything)\n",
    "### For what potential is the current equal to zero?"
   ]
  },
  {
   "cell_type": "code",
   "execution_count": 21,
   "metadata": {
    "scrolled": true
   },
   "outputs": [
    {
     "name": "stdout",
     "output_type": "stream",
     "text": [
      "Zero current at dPhi =  0.8868918122866205\n"
     ]
    },
    {
     "data": {
      "text/plain": [
       "[<matplotlib.lines.Line2D at 0x2a0c34fc908>]"
      ]
     },
     "execution_count": 21,
     "metadata": {},
     "output_type": "execute_result"
    },
    {
     "data": {
      "image/png": "[encoded data removed]",
      "text/plain": [
       "<Figure size 432x288 with 1 Axes>"
      ]
     },
     "metadata": {
      "needs_background": "light"
     },
     "output_type": "display_data"
    }
   ],
   "source": [
    "current_check = np.array([100.,  95.,  90.,  85.,  80.,  75.,  69.,\n",
    "                          64.,  59.,  54.,  49.,  43.,  38.,  33.,\n",
    "                          28.,  23.,  17.,  12.,   7.,   2.,  -3.,\n",
    "                          -9.,    -14., -19., -24.])\n",
    "\n",
    "plt.plot(dPhi, currents, 'k')\n",
    "plt.plot(dPhi, current_check, 'ro', markerfacecolor=None)\n",
    "plt.plot(dPhi, np.zeros_like(dPhi),'--',color='0.5')\n",
    "plt.xlabel('Electric potential difference (V)',fontsize=14)\n",
    "plt.ylabel('Current density (A/m$^2$)',fontsize=14)\n",
    "\n",
    "zero=np.interp(0, np.flip(currents), np.flip(dPhi))\n",
    "print('Zero current at dPhi = ',zero)\n",
    "\n",
    "\n",
    "plt.plot(dPhi, N_k[:,0],linewidth=2.5)\n",
    "plt.plot(dPhi, N_k[:,1],linewidth=2.5)\n",
    "\n",
    "plt.xlabel('Electric potential difference (V)',fontsize=14)\n",
    "plt.ylabel('Molar flux (mol/m$^2$-s)',fontsize=14)\n",
    "plt.legend(['Li$^+$','PF$_6^-$'],frameon=False,fontsize=14)\n",
    "plt.plot([zero,zero],[N_k[-1,0],N_k[0,0]],'--',color='0.5')\n",
    "plt.plot([0,1],[0,0],'--',color='0.5')"
   ]
  },
  {
   "cell_type": "markdown",
   "metadata": {},
   "source": [
    "## Discuss the plot above in this Markdown block.  When is zero ionic current achieved?\n",
    ".\n",
    ".\n",
    ".\n",
    "(like, type it right here)\n",
    "\n",
    "\n",
    "\n"
   ]
  },
  {
   "cell_type": "markdown",
   "metadata": {},
   "source": [
    "### Now predict current as a function of electrolyte volume fraction $\\varepsilon_{\\rm elyte}$\n",
    "\n",
    "(You do not need to type anything)"
   ]
  },
  {
   "cell_type": "code",
   "execution_count": 25,
   "metadata": {},
   "outputs": [
    {
     "name": "stdout",
     "output_type": "stream",
     "text": [
      "[3.64483196e-12 5.99478940e-13 2.39791576e-14]\n",
      "[ 6.58383977e-09 -1.08286838e-09  0.00000000e+00]\n",
      "[-4.79015803e-05  6.55969572e-06  5.27541468e-08]\n",
      "[6.37845593e-12 1.04908815e-12 4.19635258e-14]\n",
      "[ 1.15217196e-08 -1.89501967e-09  0.00000000e+00]\n",
      "[-8.38277655e-05  1.14794675e-05  9.23197568e-08]\n",
      "[9.11207989e-12 1.49869735e-12 5.99478940e-14]\n",
      "[ 1.64595994e-08 -2.70717096e-09  0.00000000e+00]\n",
      "[-1.19753951e-04  1.63992393e-05  1.31885367e-07]\n",
      "[1.18457039e-11 1.94830656e-12 7.79322623e-14]\n",
      "[ 2.13974792e-08 -3.51932224e-09  0.00000000e+00]\n",
      "[-1.55680136e-04  2.13190111e-05  1.71450977e-07]\n",
      "[1.45793278e-11 2.39791576e-12 9.59166305e-14]\n",
      "[ 2.63353591e-08 -4.33147353e-09  0.00000000e+00]\n",
      "[-1.91606321e-04  2.62387829e-05  2.11016587e-07]\n",
      "[1.73129518e-11 2.84752497e-12 1.13900999e-13]\n",
      "[ 3.12732389e-08 -5.14362482e-09  0.00000000e+00]\n",
      "[-2.27532506e-04  3.11585547e-05  2.50582197e-07]\n",
      "[2.00465758e-11 3.29713417e-12 1.31885367e-13]\n",
      "[ 3.62111187e-08 -5.95577611e-09  0.00000000e+00]\n",
      "[-2.63458691e-04  3.60783264e-05  2.90147807e-07]\n",
      "[2.27801997e-11 3.74674338e-12 1.49869735e-13]\n",
      "[ 4.11489985e-08 -6.76792739e-09  0.00000000e+00]\n",
      "[-2.99384877e-04  4.09980982e-05  3.29713417e-07]\n",
      "[2.55138237e-11 4.19635258e-12 1.67854103e-13]\n",
      "[ 4.60868784e-08 -7.58007868e-09  0.00000000e+00]\n",
      "[-3.35311062e-04  4.59178700e-05  3.69279027e-07]\n",
      "[2.82474477e-11 4.64596179e-12 1.85838472e-13]\n",
      "[ 5.10247582e-08 -8.39222997e-09  0.00000000e+00]\n",
      "[-3.71237247e-04  5.08376418e-05  4.08844637e-07]\n",
      "[3.09810716e-11 5.09557099e-12 2.03822840e-13]\n",
      "[ 5.59626380e-08 -9.20438125e-09  0.00000000e+00]\n",
      "[-4.07163432e-04  5.57574136e-05  4.48410247e-07]\n",
      "[3.37146956e-11 5.54518020e-12 2.21807208e-13]\n",
      "[ 6.09005178e-08 -1.00165325e-08  0.00000000e+00]\n",
      "[-4.43089617e-04  6.06771854e-05  4.87975857e-07]\n",
      "[3.64483196e-11 5.99478940e-12 2.39791576e-13]\n",
      "[ 6.58383977e-08 -1.08286838e-08  0.00000000e+00]\n",
      "[-4.79015803e-04  6.55969572e-05  5.27541468e-07]\n",
      "[3.91819435e-11 6.44439861e-12 2.57775944e-13]\n",
      "[ 7.07762775e-08 -1.16408351e-08  0.00000000e+00]\n",
      "[-5.14941988e-04  7.05167290e-05  5.67107078e-07]\n",
      "[4.19155675e-11 6.89400781e-12 2.75760313e-13]\n",
      "[ 7.57141573e-08 -1.24529864e-08  0.00000000e+00]\n",
      "[-5.50868173e-04  7.54365007e-05  6.06672688e-07]\n",
      "[4.46491915e-11 7.34361702e-12 2.93744681e-13]\n",
      "[ 8.06520371e-08 -1.32651377e-08  0.00000000e+00]\n",
      "[-5.86794358e-04  8.03562725e-05  6.46238298e-07]\n",
      "[4.73828155e-11 7.79322623e-12 3.11729049e-13]\n",
      "[ 8.5589917e-08 -1.4077289e-08  0.0000000e+00]\n",
      "[-6.22720543e-04  8.52760443e-05  6.85803908e-07]\n",
      "[5.01164394e-11 8.24283543e-12 3.29713417e-13]\n",
      "[ 9.05277968e-08 -1.48894403e-08  0.00000000e+00]\n",
      "[-6.58646729e-04  9.01958161e-05  7.25369518e-07]\n",
      "[5.28500634e-11 8.69244464e-12 3.47697785e-13]\n",
      "[ 9.54656766e-08 -1.57015915e-08  0.00000000e+00]\n",
      "[-6.94572914e-04  9.51155879e-05  7.64935128e-07]\n",
      "[5.55836874e-11 9.14205384e-12 3.65682154e-13]\n",
      "[ 1.00403556e-07 -1.65137428e-08  0.00000000e+00]\n",
      "[-7.30499099e-04  1.00035360e-04  8.04500738e-07]\n",
      "[5.83173113e-11 9.59166305e-12 3.83666522e-13]\n",
      "[ 1.05341436e-07 -1.73258941e-08  0.00000000e+00]\n",
      "[-7.66425284e-04  1.04955131e-04  8.44066348e-07]\n",
      "[6.10509353e-11 1.00412723e-11 4.01650890e-13]\n",
      "[ 1.10279316e-07 -1.81380454e-08  0.00000000e+00]\n",
      "[-8.02351469e-04  1.09874903e-04  8.83631958e-07]\n",
      "[6.37845593e-11 1.04908815e-11 4.19635258e-13]\n",
      "[ 1.15217196e-07 -1.89501967e-08  0.00000000e+00]\n",
      "[-8.38277655e-04  1.14794675e-04  9.23197568e-07]\n",
      "[6.65181832e-11 1.09404907e-11 4.37619627e-13]\n",
      "[ 1.20155076e-07 -1.97623480e-08  0.00000000e+00]\n",
      "[-8.74203840e-04  1.19714447e-04  9.62763178e-07]\n",
      "[6.92518072e-11 1.13900999e-11 4.55603995e-13]\n",
      "[ 1.25092956e-07 -2.05744993e-08  0.00000000e+00]\n",
      "[-9.10130025e-04  1.24634219e-04  1.00232879e-06]\n"
     ]
    },
    {
     "data": {
      "text/plain": [
       "Text(0, 0.5, 'Current Density (A/m$^2$)')"
      ]
     },
     "execution_count": 25,
     "metadata": {},
     "output_type": "execute_result"
    },
    {
     "data": {
      "image/png": "[encoded data removed]",
      "text/plain": [
       "<Figure size 432x288 with 1 Axes>"
      ]
     },
     "metadata": {
      "needs_background": "light"
     },
     "output_type": "display_data"
    }
   ],
   "source": [
    "eps_array = np.linspace(0.05,0.95,25)\n",
    "\n",
    "currents = np.zeros_like(eps_array)\n",
    "for j, eps in enumerate(eps_array):\n",
    "    geom['eps_e'] = eps\n",
    "    N_k = electrolyte_transport(s1, s2, geom, e_pars)\n",
    "    currents[j] = np.dot(e_pars['z_k'],N_k)*F\n",
    "    \n",
    "plt.plot(eps_array, currents,'b',linewidth=2.5)\n",
    "plt.xlabel('Electrolyte Volume Fraction', fontsize=14)\n",
    "plt.ylabel('Current Density (A/m$^2$)',fontsize=14)"
   ]
  },
  {
   "cell_type": "markdown",
   "metadata": {},
   "source": [
    "### Discuss the results.  If you were designing a high-performance anode, what $\\varepsilon_{\\rm elyte}$ value would you pick?  Why?\n",
    "\n",
    "(discuss it right here)"
   ]
  },
  {
   "cell_type": "markdown",
   "metadata": {},
   "source": [
    "## Part III. Charged defects in a proton-conducting ceramic:\n",
    "\n",
    "The protonic ceramic membrane in this section has a fixed crystal lattice that can be occupied by one of three species:\n",
    "\n",
    "- An oxygen atom, O$^\\times$ (this is considered the neutral species)\n",
    "- A vacancy,V$_{\\rm O}^{\\bullet\\bullet}$ which has a charge of +2, relative to the oxygen\n",
    "- An oxygen atom with a proton attached, OH$^\\bullet$\n",
    "\n",
    "The lattice site concentration is assumed fixed at 22,325 mol per m$^3$.\n",
    "\n",
    "The vacancy and proton are considered mobile, while the oxide is considered fixed.  We will simulate transport at 600$^\\circ$C, where the diffusion coefficients are:\n",
    "\n",
    "- $D_{\\rm V_{\\rm O}^{\\bullet\\bullet}} = 1.28\\times 10^{-12}\\,\\frac{\\rm m^2}{\\rm s}$\n",
    "- $D_{\\rm O^\\times} = 0.0\\,\\frac{\\rm m^2}{\\rm s}$\n",
    "- $D_{\\rm OH^\\bullet} = 7.46\\times 10^{-11}\\,\\frac{\\rm m^2}{\\rm s}$\n",
    "\n",
    "The membrane also has a small amount of electronic conductivity, $\\sigma_{\\rm el} = 0.001\\,\\frac{\\rm S}{\\rm m}$.\n",
    "\n",
    "We will simulate transport between two nodes, which are 20 microns apart.  The conditions are:\n",
    "\n",
    "1. Node 1:\n",
    "- $X_{\\rm V_{\\rm O}^{\\bullet\\bullet}} = 0.336$\n",
    "- $X_{\\rm O^\\times} = 0.627$\n",
    "- $X_{\\rm OH^\\bullet} = 0.037$\n",
    "- $\\phi_1 = 1.1$\n",
    "\n",
    "2. Node 2:\n",
    "- $X_{\\rm V_{\\rm O}^{\\bullet\\bullet}} = 0.018$\n",
    "- $X_{\\rm O^\\times} = 0.938$\n",
    "- $X_{\\rm OH^\\bullet} = 0.044$\n",
    "- $\\phi_2 = 0.0$\n",
    "\n",
    "## Enter the data, here:"
   ]
  },
  {
   "cell_type": "code",
   "execution_count": null,
   "metadata": {},
   "outputs": [],
   "source": [
    "s1 = {}\n",
    "s2 = { }\n",
    "\n",
    "geom = { }\n",
    "ceramic_pars = { }"
   ]
  },
  {
   "cell_type": "markdown",
   "metadata": {},
   "source": [
    "## CREATE YOUR TRANSPORT FUNCTION HERE.\n",
    "\n",
    "This function should return the fluxes, N_k, and the total current (ionic + electronic)."
   ]
  },
  {
   "cell_type": "code",
   "execution_count": null,
   "metadata": {},
   "outputs": [],
   "source": [
    "def protonic_transport(state1, state2, geom, ceramic_pars):\n",
    "        \n",
    "    \n",
    "    return N_k, current"
   ]
  },
  {
   "cell_type": "markdown",
   "metadata": {},
   "source": [
    "## Here, we loop over a range of electric potential diffrerences between node 1 and node 2.\n",
    "\n",
    "You do not need to do anything; just run the cell.\n",
    "\n",
    "We will plot both the total current and the Faradaic efficiency, as a function of $\\Delta \\phi$.  \n",
    "\n",
    "The Faradaic efficiency $\\eta_{\\rm Far}$ refers to the fact that the electronic leakage current is \"undesired,\" for the protonic fuel cell.  We want all current to move ions across the membrane.  Therefore we find the efficiency as:\n",
    "\\begin{equation}\n",
    "    \\eta_{\\rm Far} = \\frac{i_{\\rm ion}}{i_{\\rm total}}\n",
    "\\end{equation}"
   ]
  },
  {
   "cell_type": "code",
   "execution_count": null,
   "metadata": {},
   "outputs": [],
   "source": [
    "dPhi = np.linspace(0.0, 1.0, 100)\n",
    "eta_Far = np.zeros_like(dPhi)\n",
    "i_tot = np.zeros_like(dPhi)\n",
    "\n",
    "for j, deltaPhi in enumerate(dPhi):\n",
    "    s2['phi'] = s1['phi']-deltaPhi\n",
    "    Nk, i_tot[j] = protonic_transport(s1, s2, geom, ceramic_pars)\n",
    "    i_ion = np.dot(Nk,ceramic_pars['z_k'])*F\n",
    "    \n",
    "    eta_Far[j] = 100*i_ion/i_tot[j]\n",
    "    \n",
    "    \n",
    "# Plot the results:\n",
    "fig, ax = plt.subplots()\n",
    "plt.plot(dPhi, i_tot,color='b')\n",
    "\n",
    "# Create a 2nd y axis:\n",
    "ax2 = ax.twinx()\n",
    "ax2.plot(dPhi, eta_Far,'r')\n",
    "\n",
    "# Formatting:\n",
    "ax.set_xlabel('Electric Potential Difference ($\\phi_1 - \\phi_2$, V)', fontsize=14)\n",
    "\n",
    "ax.tick_params(axis='y',color='r',labelcolor='b',labelsize=12)\n",
    "ax.set_ylabel('Current density (A/m$^2$)',color='b',fontsize=14)\n",
    "ax.tick_params(axis='y',color='r',labelcolor='b',labelsize=12)\n",
    "\n",
    "ax2.set_ylabel('Faradaic Efficiency (%)',color='r',fontsize=14)\n",
    "ax2.tick_params(axis='y',color='r',labelcolor='r',labelsize=12)\n",
    "ax2.tick_params(axis='y',color='r',labelcolor='r',labelsize=12)\n",
    "ax2.set_ylim((99,100))"
   ]
  },
  {
   "cell_type": "markdown",
   "metadata": {},
   "source": [
    "## In this markdown cell, discuss the plot.  What explains the trends?\n",
    "\n",
    "To check your answers, your total current should go from roughly zero at $\\Delta\\phi = 0$, to nearly 6000 A/m$^2$ at $\\Delta\\phi = 1.0.$ Over the same range, the Faradaic efficiency should go from 100% to roughly 99.1%.\n",
    "\n",
    "(discussion goes here)"
   ]
  },
  {
   "cell_type": "markdown",
   "metadata": {},
   "source": [
    "### Now loop over a smaller range of potentials, to see where we get a net current of zero.\n",
    "\n",
    "(you do not need to type anything; just run the cell)."
   ]
  },
  {
   "cell_type": "code",
   "execution_count": null,
   "metadata": {},
   "outputs": [],
   "source": [
    "dPhi = np.linspace(-0.01, 0.01, 20)\n",
    "N_k = np.zeros((len(dPhi),len(state1['X_k'])))\n",
    "i_tot = np.zeros_like(dPhi)\n",
    "\n",
    "for j, deltaPhi in enumerate(dPhi):\n",
    "    state2['phi'] = state1['phi']-deltaPhi\n",
    "    N_k[j,:], i_tot[j] = protonic_transport(s1, s2, geom, ceramic_pars)\n",
    "\n",
    "fig, ax = plt.subplots()\n",
    "plt.plot(1000*dPhi, i_tot,color='b')\n",
    "\n",
    "zero = 1000*np.interp(0,i_tot,dPhi)\n",
    "plt.plot([zero,zero],[i_tot[0],i_tot[-1]],'--',color='0.5')\n",
    "\n",
    "ax.set_ylabel('Current density (A/m$^2$)',color='b',fontsize=14)\n",
    "ax.tick_params(axis='y',color='k',labelcolor='b',labelsize=12)\n",
    "ax.tick_params(axis='y',color='k',labelcolor='b',labelsize=12)\n",
    "\n",
    "ax.tick_params(axis='x',color='k',labelcolor='k',labelsize=12)\n",
    "ax.set_xlabel('Electric Potential Difference ($\\phi_1 - \\phi_2$, mV)', fontsize=14)\n",
    "# ax.set_xlim((-0.01,0.01))\n",
    "\n",
    "ax2 = ax.twinx()\n",
    "ax2.plot(1000*dPhi, N_k[:,0],'r.--')\n",
    "ax2.plot(1000*dPhi, N_k[:,2],color='r')\n",
    "\n",
    "ax2.set_ylabel('Species Flux (mol/m$^2$-s)',color='r',fontsize=14)\n",
    "ax2.tick_params(axis='y',color='r',labelcolor='r',labelsize=12)\n",
    "\n",
    "ax2.legend(['Vacancy','Proton'],fontsize=14,frameon=False)"
   ]
  },
  {
   "cell_type": "markdown",
   "metadata": {
    "scrolled": true
   },
   "source": [
    "### Discuss the result.  Is the 'zero current' condition the same as for the battery anode?  \n",
    "\n",
    "What about your model equations explains the trends?"
   ]
  },
  {
   "cell_type": "code",
   "execution_count": null,
   "metadata": {},
   "outputs": [],
   "source": []
  }
 ],
 "metadata": {
  "kernelspec": {
   "display_name": "Python 3",
   "language": "python",
   "name": "python3"
  },
  "language_info": {
   "codemirror_mode": {
    "name": "ipython",
    "version": 3
   },
   "file_extension": ".py",
   "mimetype": "text/x-python",
   "name": "python",
   "nbconvert_exporter": "python",
   "pygments_lexer": "ipython3",
   "version": "3.7.3"
  }
 },
 "nbformat": 4,
 "nbformat_minor": 4
}
